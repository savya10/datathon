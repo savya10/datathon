{
 "cells": [
  {
   "cell_type": "markdown",
   "metadata": {},
   "source": [
    "# FoNS Datathon 2021 "
   ]
  },
  {
   "cell_type": "code",
   "execution_count": 1,
   "metadata": {},
   "outputs": [],
   "source": [
    "import pandas as pd\n",
    "import numpy as np\n",
    "import matplotlib.pyplot as plt\n",
    "from sklearn import *\n"
   ]
  },
  {
   "cell_type": "code",
   "execution_count": 2,
   "metadata": {},
   "outputs": [],
   "source": [
    "train_descriptors = pd.read_csv(\"train_descriptors.csv\")\n",
    "train_mord3d = pd.read_csv(\"train_mord3d.csv\")\n",
    "train_morgan = pd.read_csv(\"train_morgan.csv\")\n",
    "train_rdk = pd.read_csv(\"train_rdk.csv\")\n",
    "\n",
    "train_crystals = pd.read_csv(\"train_crystals.csv\")\n",
    "train_distances = pd.read_csv(\"train_distances.csv\")\n",
    "train_centroid_distances = pd.read_csv(\"train_centroid_distances.csv\")"
   ]
  },
  {
   "cell_type": "code",
   "execution_count": 3,
   "metadata": {},
   "outputs": [],
   "source": [
    "test_descriptors = pd.read_csv(\"test_descriptors.csv\")\n",
    "test_mord3d = pd.read_csv(\"test_mord3d.csv\")\n",
    "test_morgan = pd.read_csv(\"test_morgan.csv\")\n",
    "test_rdk = pd.read_csv(\"test_rdk.csv\")"
   ]
  },
  {
   "cell_type": "markdown",
   "metadata": {},
   "source": [
    "### Data pre-processing"
   ]
  },
  {
   "cell_type": "code",
   "execution_count": 4,
   "metadata": {},
   "outputs": [
    {
     "data": {
      "text/plain": [
       "(13449, 984)"
      ]
     },
     "execution_count": 4,
     "metadata": {},
     "output_type": "execute_result"
    }
   ],
   "source": [
    "train_descriptors_full = train_descriptors.iloc[:, 3:-2].dropna(axis= 1, how=\"any\")\n",
    "# remove missing values (NA)\n",
    "train_descriptors_full.shape\n",
    "# return the dimensionality of the data"
   ]
  },
  {
   "cell_type": "code",
   "execution_count": 5,
   "metadata": {},
   "outputs": [
    {
     "data": {
      "text/plain": [
       "<bound method DataFrame.dropna of        nBase    SpAbs_A   SpMax_A  SpDiam_A     SpAD_A   SpMAD_A   LogEE_A  \\\n",
       "0          0  14.599164  2.244739  4.388162  14.599164  1.216597  3.370933   \n",
       "1          0  18.488707  2.357869  4.715737  18.488707  1.232580  3.592641   \n",
       "2          0  16.685332  2.436274  4.872549  16.685332  1.191809  3.577079   \n",
       "3          0  12.857279  2.214320  4.428639  12.857279  1.285728  3.188884   \n",
       "4          0  11.638727  2.249778  4.311276  11.638727  1.163873  3.200300   \n",
       "...      ...        ...       ...       ...        ...       ...       ...   \n",
       "13444      0  18.593111  2.444247  4.716186  18.593111  1.239541  3.643609   \n",
       "13445      0  15.070075  2.071027  4.107492  15.070075  1.255840  3.352283   \n",
       "13446      0  13.246202  2.248763  4.497527  13.246202  1.204200  3.286342   \n",
       "13447      0  17.683997  2.402187  4.804373  17.683997  1.263143  3.571058   \n",
       "13448      0  17.004191  2.270288  4.540576  17.004191  1.214585  3.520641   \n",
       "\n",
       "          VE1_A     VE2_A     VE3_A  ...     SRW07     SRW08     SRW09  \\\n",
       "0      3.078270  0.256523  1.306689  ...  4.442651  7.270313  6.293419   \n",
       "1      3.459673  0.230645  1.646639  ...  0.000000  7.786136  0.000000   \n",
       "2      3.471281  0.247949  1.580996  ...  0.000000  7.981733  0.000000   \n",
       "3      2.963010  0.296301  1.086206  ...  0.000000  7.158514  0.000000   \n",
       "4      2.910476  0.291048  1.068316  ...  4.595120  7.123673  6.529419   \n",
       "...         ...       ...       ...  ...       ...       ...       ...   \n",
       "13444  3.519627  0.234642  1.663820  ...  5.351858  7.916078  7.390799   \n",
       "13445  3.338330  0.278194  1.387792  ...  0.000000  6.920672  0.000000   \n",
       "13446  3.063840  0.278531  1.214979  ...  0.000000  7.315218  0.000000   \n",
       "13447  3.454851  0.246775  1.576252  ...  0.000000  7.897668  0.000000   \n",
       "13448  3.380274  0.241448  1.554429  ...  0.000000  7.566828  0.000000   \n",
       "\n",
       "          SRW10     TSRW10          MW        AMW  WPath  WPol  Zagreb1  \n",
       "0      8.764834  54.650723  185.062283   8.046186    219    11     54.0  \n",
       "1      9.421492  46.551655  199.110947   7.111105    364    22     70.0  \n",
       "2      9.693445  46.214439  191.080710   8.307857    271    22     74.0  \n",
       "3      8.703009  38.792641  136.052429   7.558468    121    11     44.0  \n",
       "4      8.616314  52.270726  139.074562   7.319714    125     8     46.0  \n",
       "...         ...        ...         ...        ...    ...   ...      ...  \n",
       "13444  9.554852  62.912651  214.008667  12.588745    344    20     78.0  \n",
       "13445  8.272571  40.358042  168.151415   5.254732    206    13     50.0  \n",
       "13446  8.879472  40.495691  153.042593   8.502366    158    12     50.0  \n",
       "13447  9.576441  45.924017  186.079313   7.753305    283    21     72.0  \n",
       "13448  9.121400  44.722734  212.025563   9.637526    338    17     64.0  \n",
       "\n",
       "[13449 rows x 979 columns]>"
      ]
     },
     "execution_count": 5,
     "metadata": {},
     "output_type": "execute_result"
    }
   ],
   "source": [
    "train_descriptors_full.iloc[:,3:-2].dropna"
   ]
  },
  {
   "cell_type": "code",
   "execution_count": 6,
   "metadata": {},
   "outputs": [
    {
     "data": {
      "text/plain": [
       "(3363, 984)"
      ]
     },
     "execution_count": 6,
     "metadata": {},
     "output_type": "execute_result"
    }
   ],
   "source": [
    "test_descriptors_full = test_descriptors[train_descriptors_full.columns]\n",
    "test_descriptors_full.shape"
   ]
  },
  {
   "cell_type": "code",
   "execution_count": 7,
   "metadata": {},
   "outputs": [
    {
     "name": "stdout",
     "output_type": "stream",
     "text": [
      "(13449, 124) (3363, 124)\n"
     ]
    }
   ],
   "source": [
    "train_PCA = decomposition.PCA(n_components=.95)\n",
    "# dimensionality reduction for PCS\n",
    "scaler_for_PCA = preprocessing.StandardScaler()\n",
    "# standardise features - remove the mean and scale according to unit var \n",
    "# especially useful for SVMs, which assumes a gaussian fit\n",
    "train_descriptors_PCA = train_PCA.fit_transform(scaler_for_PCA.fit_transform(train_descriptors_full))\n",
    "test_descriptors_PCA = train_PCA.transform(scaler_for_PCA.transform(test_descriptors_full))\n",
    "print(train_descriptors_PCA.shape, test_descriptors_PCA.shape)"
   ]
  },
  {
   "cell_type": "code",
   "execution_count": 11,
   "metadata": {},
   "outputs": [],
   "source": [
    "train_PCA?"
   ]
  },
  {
   "cell_type": "markdown",
   "metadata": {},
   "source": [
    "Nested CV "
   ]
  },
  {
   "cell_type": "markdown",
   "metadata": {},
   "source": [
    "### A (very!!) simple and bad model"
   ]
  },
  {
   "cell_type": "code",
   "execution_count": 9,
   "metadata": {},
   "outputs": [
    {
     "data": {
      "text/plain": [
       "RandomForestRegressor(bootstrap=True, ccp_alpha=0.0, criterion='mse',\n",
       "                      max_depth=None, max_features='auto', max_leaf_nodes=None,\n",
       "                      max_samples=None, min_impurity_decrease=0.0,\n",
       "                      min_impurity_split=None, min_samples_leaf=1,\n",
       "                      min_samples_split=2, min_weight_fraction_leaf=0.0,\n",
       "                      n_estimators=100, n_jobs=None, oob_score=False,\n",
       "                      random_state=None, verbose=0, warm_start=False)"
      ]
     },
     "execution_count": 9,
     "metadata": {},
     "output_type": "execute_result"
    }
   ],
   "source": [
    "from sklearn.ensemble import RandomForestRegressor\n",
    "target = \"n_vdw_contacts\"\n",
    "# model = linear_model.LinearRegression()\n",
    "# randomforest = RandomForestRegressor()\n",
    "model = RandomForestRegressor()\n",
    "# svr_lin = SVR(kernel = 'linear', C = 100, gamma = 'auto')\n",
    "# svr_poly - SVR(kernel = 'poly', C = 100, gamma = 'auto', degree=3, epsilon = 0.1, coef0 = 1)\n",
    "# svrs=[svr_rbf, svr_lin, svr_poly]\n",
    "model.fit(train_descriptors_PCA, train_distances[target])\n"
   ]
  },
  {
   "cell_type": "code",
   "execution_count": 10,
   "metadata": {
    "scrolled": true
   },
   "outputs": [
    {
     "data": {
      "image/png": "[encoded data removed]",
      "text/plain": [
       "<Figure size 432x288 with 1 Axes>"
      ]
     },
     "metadata": {
      "needs_background": "light"
     },
     "output_type": "display_data"
    }
   ],
   "source": [
    "predictions = model.predict(train_descriptors_PCA)\n",
    "plt.plot(train_distances[target], predictions, \"bo\")\n",
    "plt.xlabel(\"True values\")\n",
    "plt.ylabel(\"Predicted values\")\n",
    "plt.title(\"Predicted z-value against true values\")\n",
    "plt.show()"
   ]
  },
  {
   "cell_type": "markdown",
   "metadata": {},
   "source": [
    "### Cross-validation to evaluate the model's performance"
   ]
  },
  {
   "cell_type": "code",
   "execution_count": 11,
   "metadata": {},
   "outputs": [
    {
     "name": "stdout",
     "output_type": "stream",
     "text": [
      "Average negative MAE: -4.0\n",
      "Standard deviation: 0.049\n"
     ]
    }
   ],
   "source": [
    "cv_scores = model_selection.cross_val_score(\n",
    "    model, \n",
    "    train_descriptors_PCA, \n",
    "    train_distances[target], \n",
    "    scoring=\"neg_mean_absolute_error\",\n",
    "    cv = 5)\n",
    "\n",
    "print(\"Average negative MAE:\", round(np.mean(cv_scores), 3))\n",
    "print(\"Standard deviation:\", round(np.std(cv_scores), 3))"
   ]
  },
  {
   "cell_type": "markdown",
   "metadata": {},
   "source": [
    "### Outputting predictions for automated checking \n",
    "Link: https://github.com/stevenkbennett/fons_datathon_testing"
   ]
  },
  {
   "cell_type": "code",
   "execution_count": 14,
   "metadata": {},
   "outputs": [],
   "source": [
    "predictions = model.predict(test_descriptors_PCA)"
   ]
  },
  {
   "cell_type": "code",
   "execution_count": 15,
   "metadata": {},
   "outputs": [],
   "source": [
    "np.savetxt(\"task_4_predictions.csv\", predictions)\n",
    "# Alternatively, if using pandas, you can use the following:\n",
    "pd.DataFrame(predictions).to_csv(\"task_4_predictions.csv\", header=False, index=False)"
   ]
  },
  {
   "cell_type": "code",
   "execution_count": null,
   "metadata": {},
   "outputs": [],
   "source": []
  },
  {
   "cell_type": "code",
   "execution_count": null,
   "metadata": {},
   "outputs": [],
   "source": []
  }
 ],
 "metadata": {
  "kernelspec": {
   "display_name": "Python 3",
   "language": "python",
   "name": "python3"
  },
  "language_info": {
   "codemirror_mode": {
    "name": "ipython",
    "version": 3
   },
   "file_extension": ".py",
   "mimetype": "text/x-python",
   "name": "python",
   "nbconvert_exporter": "python",
   "pygments_lexer": "ipython3",
   "version": "3.7.6"
  }
 },
 "nbformat": 4,
 "nbformat_minor": 5
}
